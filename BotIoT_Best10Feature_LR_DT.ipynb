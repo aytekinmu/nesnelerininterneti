{
  "nbformat": 4,
  "nbformat_minor": 0,
  "metadata": {
    "colab": {
      "name": "BotIoT-Best10Feature-LR-DT.ipynb",
      "provenance": []
    },
    "kernelspec": {
      "name": "python3",
      "display_name": "Python 3"
    },
    "language_info": {
      "name": "python"
    }
  },
  "cells": [
    {
      "cell_type": "code",
      "metadata": {
        "id": "h4gFj1TcARDq",
        "colab": {
          "base_uri": "https://localhost:8080/"
        },
        "outputId": "a025a3db-c0c9-4685-84db-cdaa8b0baafc"
      },
      "source": [
        "!gdown --id 1pvd722U6Z5eznce8ty-KPEab50saOtpn\n",
        "!gdown --id 1wgb9C_An9hJ2qD-k6RuJ6a6jk_y1hggL"
      ],
      "execution_count": 1,
      "outputs": [
        {
          "output_type": "stream",
          "text": [
            "Downloading...\n",
            "From: https://drive.google.com/uc?id=1pvd722U6Z5eznce8ty-KPEab50saOtpn\n",
            "To: /content/UNSW_2018_IoT_Botnet_Final_10_best_Testing.csv\n",
            "92.3MB [00:00, 160MB/s]\n",
            "Downloading...\n",
            "From: https://drive.google.com/uc?id=1wgb9C_An9hJ2qD-k6RuJ6a6jk_y1hggL\n",
            "To: /content/UNSW_2018_IoT_Botnet_Final_10_best_Training.csv\n",
            "369MB [00:02, 144MB/s]\n"
          ],
          "name": "stdout"
        }
      ]
    },
    {
      "cell_type": "code",
      "metadata": {
        "id": "soFGDB-VeYJe"
      },
      "source": [
        "import numpy as np\n",
        "import pandas as pd\n",
        "import matplotlib.pyplot as plt\n",
        "%matplotlib inline\n",
        "import seaborn as sns\n",
        "\n",
        "df_test = pd.read_csv('UNSW_2018_IoT_Botnet_Final_10_best_Testing.csv')\n",
        "df_train = pd.read_csv('UNSW_2018_IoT_Botnet_Final_10_best_Training.csv')"
      ],
      "execution_count": 2,
      "outputs": []
    },
    {
      "cell_type": "code",
      "metadata": {
        "colab": {
          "base_uri": "https://localhost:8080/"
        },
        "id": "WZPpHjoQ1A1c",
        "outputId": "fda2212b-ffc5-4ba1-dbeb-c60b06a7fa98"
      },
      "source": [
        "df_train['category'].value_counts()"
      ],
      "execution_count": 3,
      "outputs": [
        {
          "output_type": "execute_result",
          "data": {
            "text/plain": [
              "DDoS              1541315\n",
              "DoS               1320148\n",
              "Reconnaissance      72919\n",
              "Normal                370\n",
              "Theft                  65\n",
              "Name: category, dtype: int64"
            ]
          },
          "metadata": {
            "tags": []
          },
          "execution_count": 3
        }
      ]
    },
    {
      "cell_type": "code",
      "metadata": {
        "colab": {
          "base_uri": "https://localhost:8080/"
        },
        "id": "fVJIkDQO1Rl4",
        "outputId": "ba7fa560-0751-4ad0-e42e-152ea74b4906"
      },
      "source": [
        "df_train.groupby(['category'])['subcategory'].value_counts()"
      ],
      "execution_count": 4,
      "outputs": [
        {
          "output_type": "execute_result",
          "data": {
            "text/plain": [
              "category        subcategory      \n",
              "DDoS            TCP                  782228\n",
              "                UDP                  758301\n",
              "                HTTP                    786\n",
              "DoS             UDP                  826349\n",
              "                TCP                  492615\n",
              "                HTTP                   1184\n",
              "Normal          Normal                  370\n",
              "Reconnaissance  Service_Scan          58626\n",
              "                OS_Fingerprint        14293\n",
              "Theft           Keylogging               59\n",
              "                Data_Exfiltration         6\n",
              "Name: subcategory, dtype: int64"
            ]
          },
          "metadata": {
            "tags": []
          },
          "execution_count": 4
        }
      ]
    },
    {
      "cell_type": "code",
      "metadata": {
        "colab": {
          "base_uri": "https://localhost:8080/"
        },
        "id": "EpMCLFWs5abj",
        "outputId": "7ffddf75-e243-4105-95a3-d0b1aa439e4a"
      },
      "source": [
        "df_test.groupby(['category'])['subcategory'].value_counts()"
      ],
      "execution_count": 5,
      "outputs": [
        {
          "output_type": "execute_result",
          "data": {
            "text/plain": [
              "category        subcategory   \n",
              "DDoS            TCP               195152\n",
              "                UDP               189954\n",
              "                HTTP                 203\n",
              "DoS             UDP               206626\n",
              "                TCP               123185\n",
              "                HTTP                 301\n",
              "Normal          Normal               107\n",
              "Reconnaissance  Service_Scan       14542\n",
              "                OS_Fingerprint      3621\n",
              "Theft           Keylogging            14\n",
              "Name: subcategory, dtype: int64"
            ]
          },
          "metadata": {
            "tags": []
          },
          "execution_count": 5
        }
      ]
    },
    {
      "cell_type": "code",
      "metadata": {
        "id": "SLsm48SJ1_Ef"
      },
      "source": [
        "df_train['target'] = df_train['category'] + \"_\" + df_train['subcategory']\n",
        "df_test['target'] = df_test['category'] + \"_\" + df_test['subcategory']"
      ],
      "execution_count": 6,
      "outputs": []
    },
    {
      "cell_type": "code",
      "metadata": {
        "colab": {
          "base_uri": "https://localhost:8080/",
          "height": 501
        },
        "id": "lFqM6SqH2jfL",
        "outputId": "1d443fe5-c078-4519-d80a-fd501d3b6b45"
      },
      "source": [
        "plt.xticks(rotation=90)\n",
        "sns.countplot(df_train['target'],palette='bright')\n"
      ],
      "execution_count": 7,
      "outputs": [
        {
          "output_type": "stream",
          "text": [
            "/usr/local/lib/python3.7/dist-packages/seaborn/_decorators.py:43: FutureWarning: Pass the following variable as a keyword arg: x. From version 0.12, the only valid positional argument will be `data`, and passing other arguments without an explicit keyword will result in an error or misinterpretation.\n",
            "  FutureWarning\n"
          ],
          "name": "stderr"
        },
        {
          "output_type": "execute_result",
          "data": {
            "text/plain": [
              "<matplotlib.axes._subplots.AxesSubplot at 0x7f710543fdd0>"
            ]
          },
          "metadata": {
            "tags": []
          },
          "execution_count": 7
        },
        {
          "output_type": "display_data",
          "data": {
            "image/png": "[encoded data removed]",
            "text/plain": [
              "<Figure size 432x288 with 1 Axes>"
            ]
          },
          "metadata": {
            "tags": [],
            "needs_background": "light"
          }
        }
      ]
    },
    {
      "cell_type": "code",
      "metadata": {
        "id": "yWxrBr_w5uGX"
      },
      "source": [
        "indexNames = df_train[df_train['subcategory']=='Data_Exfiltration'].index\n",
        "df_train.drop(indexNames , inplace=True)\n",
        "indexNames = df_test[df_test['subcategory']=='Data_Exfiltration'].index\n",
        "df_test.drop(indexNames , inplace=True)\n",
        "\n",
        "df_train.drop([\"pkSeqID\",\"seq\"], axis=1, inplace=True)\n",
        "df_test.drop([\"pkSeqID\",\"seq\"], axis=1, inplace=True)"
      ],
      "execution_count": 8,
      "outputs": []
    },
    {
      "cell_type": "code",
      "metadata": {
        "colab": {
          "base_uri": "https://localhost:8080/",
          "height": 431
        },
        "id": "PywNHEZ85t8D",
        "outputId": "3094929e-4b82-4084-d835-95ff87c0346f"
      },
      "source": [
        "df_train[df_train['category']=='Normal']"
      ],
      "execution_count": 9,
      "outputs": [
        {
          "output_type": "execute_result",
          "data": {
            "text/html": [
              "<div>\n",
              "<style scoped>\n",
              "    .dataframe tbody tr th:only-of-type {\n",
              "        vertical-align: middle;\n",
              "    }\n",
              "\n",
              "    .dataframe tbody tr th {\n",
              "        vertical-align: top;\n",
              "    }\n",
              "\n",
              "    .dataframe thead th {\n",
              "        text-align: right;\n",
              "    }\n",
              "</style>\n",
              "<table border=\"1\" class=\"dataframe\">\n",
              "  <thead>\n",
              "    <tr style=\"text-align: right;\">\n",
              "      <th></th>\n",
              "      <th>proto</th>\n",
              "      <th>saddr</th>\n",
              "      <th>sport</th>\n",
              "      <th>daddr</th>\n",
              "      <th>dport</th>\n",
              "      <th>stddev</th>\n",
              "      <th>N_IN_Conn_P_SrcIP</th>\n",
              "      <th>min</th>\n",
              "      <th>state_number</th>\n",
              "      <th>mean</th>\n",
              "      <th>N_IN_Conn_P_DstIP</th>\n",
              "      <th>drate</th>\n",
              "      <th>srate</th>\n",
              "      <th>max</th>\n",
              "      <th>attack</th>\n",
              "      <th>category</th>\n",
              "      <th>subcategory</th>\n",
              "      <th>target</th>\n",
              "    </tr>\n",
              "  </thead>\n",
              "  <tbody>\n",
              "    <tr>\n",
              "      <th>3377</th>\n",
              "      <td>tcp</td>\n",
              "      <td>192.168.100.5</td>\n",
              "      <td>0</td>\n",
              "      <td>192.168.100.3</td>\n",
              "      <td>0</td>\n",
              "      <td>0.235357</td>\n",
              "      <td>7</td>\n",
              "      <td>0.598172</td>\n",
              "      <td>2</td>\n",
              "      <td>4.898582</td>\n",
              "      <td>7</td>\n",
              "      <td>0.000000</td>\n",
              "      <td>10.932437</td>\n",
              "      <td>4.999866</td>\n",
              "      <td>0</td>\n",
              "      <td>Normal</td>\n",
              "      <td>Normal</td>\n",
              "      <td>Normal_Normal</td>\n",
              "    </tr>\n",
              "    <tr>\n",
              "      <th>7683</th>\n",
              "      <td>udp</td>\n",
              "      <td>192.168.100.150</td>\n",
              "      <td>46295</td>\n",
              "      <td>192.168.217.2</td>\n",
              "      <td>53</td>\n",
              "      <td>0.000000</td>\n",
              "      <td>11</td>\n",
              "      <td>0.000000</td>\n",
              "      <td>4</td>\n",
              "      <td>0.000000</td>\n",
              "      <td>20</td>\n",
              "      <td>0.000000</td>\n",
              "      <td>0.400001</td>\n",
              "      <td>0.000000</td>\n",
              "      <td>0</td>\n",
              "      <td>Normal</td>\n",
              "      <td>Normal</td>\n",
              "      <td>Normal_Normal</td>\n",
              "    </tr>\n",
              "    <tr>\n",
              "      <th>8844</th>\n",
              "      <td>tcp</td>\n",
              "      <td>192.168.100.3</td>\n",
              "      <td>80</td>\n",
              "      <td>192.168.100.55</td>\n",
              "      <td>8080</td>\n",
              "      <td>0.228494</td>\n",
              "      <td>20</td>\n",
              "      <td>0.768694</td>\n",
              "      <td>2</td>\n",
              "      <td>4.947914</td>\n",
              "      <td>2</td>\n",
              "      <td>17.633553</td>\n",
              "      <td>17.634146</td>\n",
              "      <td>4.999863</td>\n",
              "      <td>0</td>\n",
              "      <td>Normal</td>\n",
              "      <td>Normal</td>\n",
              "      <td>Normal_Normal</td>\n",
              "    </tr>\n",
              "    <tr>\n",
              "      <th>10110</th>\n",
              "      <td>udp</td>\n",
              "      <td>192.168.100.147</td>\n",
              "      <td>38275</td>\n",
              "      <td>192.168.217.2</td>\n",
              "      <td>53</td>\n",
              "      <td>0.000000</td>\n",
              "      <td>18</td>\n",
              "      <td>0.000000</td>\n",
              "      <td>4</td>\n",
              "      <td>0.000000</td>\n",
              "      <td>18</td>\n",
              "      <td>0.000000</td>\n",
              "      <td>0.399866</td>\n",
              "      <td>0.000000</td>\n",
              "      <td>0</td>\n",
              "      <td>Normal</td>\n",
              "      <td>Normal</td>\n",
              "      <td>Normal_Normal</td>\n",
              "    </tr>\n",
              "    <tr>\n",
              "      <th>16479</th>\n",
              "      <td>udp</td>\n",
              "      <td>192.168.100.150</td>\n",
              "      <td>56155</td>\n",
              "      <td>255.255.255.255</td>\n",
              "      <td>3289</td>\n",
              "      <td>0.000000</td>\n",
              "      <td>14</td>\n",
              "      <td>0.000000</td>\n",
              "      <td>4</td>\n",
              "      <td>0.000000</td>\n",
              "      <td>2</td>\n",
              "      <td>0.000000</td>\n",
              "      <td>0.000000</td>\n",
              "      <td>0.000000</td>\n",
              "      <td>0</td>\n",
              "      <td>Normal</td>\n",
              "      <td>Normal</td>\n",
              "      <td>Normal_Normal</td>\n",
              "    </tr>\n",
              "    <tr>\n",
              "      <th>...</th>\n",
              "      <td>...</td>\n",
              "      <td>...</td>\n",
              "      <td>...</td>\n",
              "      <td>...</td>\n",
              "      <td>...</td>\n",
              "      <td>...</td>\n",
              "      <td>...</td>\n",
              "      <td>...</td>\n",
              "      <td>...</td>\n",
              "      <td>...</td>\n",
              "      <td>...</td>\n",
              "      <td>...</td>\n",
              "      <td>...</td>\n",
              "      <td>...</td>\n",
              "      <td>...</td>\n",
              "      <td>...</td>\n",
              "      <td>...</td>\n",
              "      <td>...</td>\n",
              "    </tr>\n",
              "    <tr>\n",
              "      <th>2896922</th>\n",
              "      <td>udp</td>\n",
              "      <td>192.168.100.3</td>\n",
              "      <td>60946</td>\n",
              "      <td>192.31.80.30</td>\n",
              "      <td>53</td>\n",
              "      <td>0.000000</td>\n",
              "      <td>23</td>\n",
              "      <td>0.278547</td>\n",
              "      <td>2</td>\n",
              "      <td>0.278547</td>\n",
              "      <td>1</td>\n",
              "      <td>0.000000</td>\n",
              "      <td>0.000000</td>\n",
              "      <td>0.278547</td>\n",
              "      <td>0</td>\n",
              "      <td>Normal</td>\n",
              "      <td>Normal</td>\n",
              "      <td>Normal_Normal</td>\n",
              "    </tr>\n",
              "    <tr>\n",
              "      <th>2907572</th>\n",
              "      <td>ipv6-icmp</td>\n",
              "      <td>fe80::250:56ff:febe:c038</td>\n",
              "      <td>133</td>\n",
              "      <td>ff02::2</td>\n",
              "      <td>0</td>\n",
              "      <td>0.000000</td>\n",
              "      <td>1</td>\n",
              "      <td>0.000000</td>\n",
              "      <td>8</td>\n",
              "      <td>0.000000</td>\n",
              "      <td>3</td>\n",
              "      <td>0.000000</td>\n",
              "      <td>0.000000</td>\n",
              "      <td>0.000000</td>\n",
              "      <td>0</td>\n",
              "      <td>Normal</td>\n",
              "      <td>Normal</td>\n",
              "      <td>Normal_Normal</td>\n",
              "    </tr>\n",
              "    <tr>\n",
              "      <th>2912220</th>\n",
              "      <td>udp</td>\n",
              "      <td>192.168.100.4</td>\n",
              "      <td>60001</td>\n",
              "      <td>192.168.100.1</td>\n",
              "      <td>53</td>\n",
              "      <td>0.323125</td>\n",
              "      <td>7</td>\n",
              "      <td>0.000000</td>\n",
              "      <td>2</td>\n",
              "      <td>0.161776</td>\n",
              "      <td>4</td>\n",
              "      <td>0.555538</td>\n",
              "      <td>0.644334</td>\n",
              "      <td>0.808025</td>\n",
              "      <td>0</td>\n",
              "      <td>Normal</td>\n",
              "      <td>Normal</td>\n",
              "      <td>Normal_Normal</td>\n",
              "    </tr>\n",
              "    <tr>\n",
              "      <th>2917520</th>\n",
              "      <td>udp</td>\n",
              "      <td>192.168.100.148</td>\n",
              "      <td>41735</td>\n",
              "      <td>8.8.8.8</td>\n",
              "      <td>53</td>\n",
              "      <td>0.000000</td>\n",
              "      <td>20</td>\n",
              "      <td>0.007598</td>\n",
              "      <td>2</td>\n",
              "      <td>0.007598</td>\n",
              "      <td>15</td>\n",
              "      <td>0.000000</td>\n",
              "      <td>0.000000</td>\n",
              "      <td>0.007598</td>\n",
              "      <td>0</td>\n",
              "      <td>Normal</td>\n",
              "      <td>Normal</td>\n",
              "      <td>Normal_Normal</td>\n",
              "    </tr>\n",
              "    <tr>\n",
              "      <th>2932908</th>\n",
              "      <td>udp</td>\n",
              "      <td>192.168.100.147</td>\n",
              "      <td>57830</td>\n",
              "      <td>192.168.217.2</td>\n",
              "      <td>53</td>\n",
              "      <td>0.000000</td>\n",
              "      <td>12</td>\n",
              "      <td>0.000000</td>\n",
              "      <td>4</td>\n",
              "      <td>0.000000</td>\n",
              "      <td>8</td>\n",
              "      <td>0.000000</td>\n",
              "      <td>0.399842</td>\n",
              "      <td>0.000000</td>\n",
              "      <td>0</td>\n",
              "      <td>Normal</td>\n",
              "      <td>Normal</td>\n",
              "      <td>Normal_Normal</td>\n",
              "    </tr>\n",
              "  </tbody>\n",
              "</table>\n",
              "<p>370 rows × 18 columns</p>\n",
              "</div>"
            ],
            "text/plain": [
              "             proto                     saddr  ... subcategory         target\n",
              "3377           tcp             192.168.100.5  ...      Normal  Normal_Normal\n",
              "7683           udp           192.168.100.150  ...      Normal  Normal_Normal\n",
              "8844           tcp             192.168.100.3  ...      Normal  Normal_Normal\n",
              "10110          udp           192.168.100.147  ...      Normal  Normal_Normal\n",
              "16479          udp           192.168.100.150  ...      Normal  Normal_Normal\n",
              "...            ...                       ...  ...         ...            ...\n",
              "2896922        udp             192.168.100.3  ...      Normal  Normal_Normal\n",
              "2907572  ipv6-icmp  fe80::250:56ff:febe:c038  ...      Normal  Normal_Normal\n",
              "2912220        udp             192.168.100.4  ...      Normal  Normal_Normal\n",
              "2917520        udp           192.168.100.148  ...      Normal  Normal_Normal\n",
              "2932908        udp           192.168.100.147  ...      Normal  Normal_Normal\n",
              "\n",
              "[370 rows x 18 columns]"
            ]
          },
          "metadata": {
            "tags": []
          },
          "execution_count": 9
        }
      ]
    },
    {
      "cell_type": "code",
      "metadata": {
        "colab": {
          "base_uri": "https://localhost:8080/"
        },
        "id": "M7WalLXUESCG",
        "outputId": "86299836-9c91-43bd-954c-e1f2893cc392"
      },
      "source": [
        "df_train['sport'].value_counts()"
      ],
      "execution_count": 10,
      "outputs": [
        {
          "output_type": "execute_result",
          "data": {
            "text/plain": [
              "0x0303    7156\n",
              "80        3220\n",
              "1822       878\n",
              "60541      869\n",
              "1216       868\n",
              "          ... \n",
              "7813        31\n",
              "39305       30\n",
              "18992       30\n",
              "0x000d      10\n",
              "0x0011       8\n",
              "Name: sport, Length: 65541, dtype: int64"
            ]
          },
          "metadata": {
            "tags": []
          },
          "execution_count": 10
        }
      ]
    },
    {
      "cell_type": "code",
      "metadata": {
        "colab": {
          "base_uri": "https://localhost:8080/"
        },
        "id": "ULbusEzOES7l",
        "outputId": "c0c0e337-cdd4-4ae1-bf7b-7534a8e35043"
      },
      "source": [
        "check='0x'\n",
        "s_res = set([i for i in df_train['sport'] if i.startswith(check)])\n",
        "s_res"
      ],
      "execution_count": 11,
      "outputs": [
        {
          "output_type": "execute_result",
          "data": {
            "text/plain": [
              "{'0x0008', '0x000d', '0x0011', '0x0303'}"
            ]
          },
          "metadata": {
            "tags": []
          },
          "execution_count": 11
        }
      ]
    },
    {
      "cell_type": "code",
      "metadata": {
        "id": "kX9w_bi-EXW1"
      },
      "source": [
        "df_train['sport']=df_train['sport'].replace(['0x0303'],'771') \n",
        "df_train['sport']=df_train['sport'].replace(['0x0011'],'17')\n",
        "df_train['sport']=df_train['sport'].replace(['0x000d'],'13')\n",
        "df_train['sport']=df_train['sport'].replace(['0x0008'],'8')\n",
        "\n",
        "df_test['sport']=df_test['sport'].replace(['0x0303'],'771') \n",
        "df_test['sport']=df_test['sport'].replace(['0x0011'],'17')\n",
        "df_test['sport']=df_test['sport'].replace(['0x000d'],'13')\n",
        "df_test['sport']=df_test['sport'].replace(['0x0008'],'8')\n",
        "\n",
        "df_train[\"sport\"] = df_train[\"sport\"].astype(str).astype(int)\n",
        "df_test[\"sport\"] = df_test[\"sport\"].astype(str).astype(int)"
      ],
      "execution_count": 12,
      "outputs": []
    },
    {
      "cell_type": "code",
      "metadata": {
        "colab": {
          "base_uri": "https://localhost:8080/"
        },
        "id": "QSxA0KvZEt5N",
        "outputId": "da3d48ac-70c1-4d2b-efac-27b22c10cb6c"
      },
      "source": [
        "check='0x'\n",
        "d_res = set([i for i in df_train['dport'] if i.startswith(check)])\n",
        "print(len(d_res))"
      ],
      "execution_count": 13,
      "outputs": [
        {
          "output_type": "stream",
          "text": [
            "1062\n"
          ],
          "name": "stdout"
        }
      ]
    },
    {
      "cell_type": "code",
      "metadata": {
        "id": "esZsJ245ExCV"
      },
      "source": [
        "df_train[\"dport\"] = df_train[\"dport\"].apply(lambda x: int(x,16) if len(x)>1 and x[1]==\"x\" else int(x))\n",
        "df_test[\"dport\"] = df_test[\"dport\"].apply(lambda x: int(x,16) if len(x)>1 and x[1]==\"x\" else int(x))"
      ],
      "execution_count": 14,
      "outputs": []
    },
    {
      "cell_type": "code",
      "metadata": {
        "colab": {
          "base_uri": "https://localhost:8080/"
        },
        "id": "YXbCTm8jR5_H",
        "outputId": "2cf66701-997d-4806-ac66-acaa36e1d8d0"
      },
      "source": [
        "df_train['target'].value_counts()"
      ],
      "execution_count": 15,
      "outputs": [
        {
          "output_type": "execute_result",
          "data": {
            "text/plain": [
              "DoS_UDP                          826349\n",
              "DDoS_TCP                         782228\n",
              "DDoS_UDP                         758301\n",
              "DoS_TCP                          492615\n",
              "Reconnaissance_Service_Scan       58626\n",
              "Reconnaissance_OS_Fingerprint     14293\n",
              "DoS_HTTP                           1184\n",
              "DDoS_HTTP                           786\n",
              "Normal_Normal                       370\n",
              "Theft_Keylogging                     59\n",
              "Name: target, dtype: int64"
            ]
          },
          "metadata": {
            "tags": []
          },
          "execution_count": 15
        }
      ]
    },
    {
      "cell_type": "code",
      "metadata": {
        "id": "d05sWiwxatTH"
      },
      "source": [
        "indexNames = df_train[df_train['dport'] == -1].index\n",
        "df_train.drop(indexNames, inplace=True)\n",
        "indexNames = df_test[df_test['dport'] == -1].index\n",
        "df_test.drop(indexNames, inplace=True)\n",
        "df_train.drop([\"category\",\"subcategory\"], axis=1, inplace=True)\n",
        "df_test.drop([\"category\",\"subcategory\"], axis=1, inplace=True)"
      ],
      "execution_count": 16,
      "outputs": []
    },
    {
      "cell_type": "code",
      "metadata": {
        "colab": {
          "base_uri": "https://localhost:8080/",
          "height": 414
        },
        "id": "fZh-JL2gSL-9",
        "outputId": "ee5402d3-dc1e-42d6-b1f7-22d53e66231f"
      },
      "source": [
        "df_train"
      ],
      "execution_count": 17,
      "outputs": [
        {
          "output_type": "execute_result",
          "data": {
            "text/html": [
              "<div>\n",
              "<style scoped>\n",
              "    .dataframe tbody tr th:only-of-type {\n",
              "        vertical-align: middle;\n",
              "    }\n",
              "\n",
              "    .dataframe tbody tr th {\n",
              "        vertical-align: top;\n",
              "    }\n",
              "\n",
              "    .dataframe thead th {\n",
              "        text-align: right;\n",
              "    }\n",
              "</style>\n",
              "<table border=\"1\" class=\"dataframe\">\n",
              "  <thead>\n",
              "    <tr style=\"text-align: right;\">\n",
              "      <th></th>\n",
              "      <th>proto</th>\n",
              "      <th>saddr</th>\n",
              "      <th>sport</th>\n",
              "      <th>daddr</th>\n",
              "      <th>dport</th>\n",
              "      <th>stddev</th>\n",
              "      <th>N_IN_Conn_P_SrcIP</th>\n",
              "      <th>min</th>\n",
              "      <th>state_number</th>\n",
              "      <th>mean</th>\n",
              "      <th>N_IN_Conn_P_DstIP</th>\n",
              "      <th>drate</th>\n",
              "      <th>srate</th>\n",
              "      <th>max</th>\n",
              "      <th>attack</th>\n",
              "      <th>target</th>\n",
              "    </tr>\n",
              "  </thead>\n",
              "  <tbody>\n",
              "    <tr>\n",
              "      <th>0</th>\n",
              "      <td>udp</td>\n",
              "      <td>192.168.100.150</td>\n",
              "      <td>6551</td>\n",
              "      <td>192.168.100.3</td>\n",
              "      <td>80</td>\n",
              "      <td>1.900363</td>\n",
              "      <td>100</td>\n",
              "      <td>0.000000</td>\n",
              "      <td>4</td>\n",
              "      <td>2.687519</td>\n",
              "      <td>100</td>\n",
              "      <td>0.000000</td>\n",
              "      <td>0.494549</td>\n",
              "      <td>4.031619</td>\n",
              "      <td>1</td>\n",
              "      <td>DDoS_UDP</td>\n",
              "    </tr>\n",
              "    <tr>\n",
              "      <th>1</th>\n",
              "      <td>tcp</td>\n",
              "      <td>192.168.100.150</td>\n",
              "      <td>5532</td>\n",
              "      <td>192.168.100.3</td>\n",
              "      <td>80</td>\n",
              "      <td>0.078003</td>\n",
              "      <td>38</td>\n",
              "      <td>3.856930</td>\n",
              "      <td>3</td>\n",
              "      <td>3.934927</td>\n",
              "      <td>100</td>\n",
              "      <td>0.000000</td>\n",
              "      <td>0.256493</td>\n",
              "      <td>4.012924</td>\n",
              "      <td>1</td>\n",
              "      <td>DDoS_TCP</td>\n",
              "    </tr>\n",
              "    <tr>\n",
              "      <th>2</th>\n",
              "      <td>tcp</td>\n",
              "      <td>192.168.100.147</td>\n",
              "      <td>27165</td>\n",
              "      <td>192.168.100.3</td>\n",
              "      <td>80</td>\n",
              "      <td>0.268666</td>\n",
              "      <td>100</td>\n",
              "      <td>2.974100</td>\n",
              "      <td>3</td>\n",
              "      <td>3.341429</td>\n",
              "      <td>100</td>\n",
              "      <td>0.000000</td>\n",
              "      <td>0.294880</td>\n",
              "      <td>3.609205</td>\n",
              "      <td>1</td>\n",
              "      <td>DDoS_TCP</td>\n",
              "    </tr>\n",
              "    <tr>\n",
              "      <th>3</th>\n",
              "      <td>udp</td>\n",
              "      <td>192.168.100.150</td>\n",
              "      <td>48719</td>\n",
              "      <td>192.168.100.3</td>\n",
              "      <td>80</td>\n",
              "      <td>1.823185</td>\n",
              "      <td>63</td>\n",
              "      <td>0.000000</td>\n",
              "      <td>4</td>\n",
              "      <td>3.222832</td>\n",
              "      <td>63</td>\n",
              "      <td>0.000000</td>\n",
              "      <td>0.461435</td>\n",
              "      <td>4.942302</td>\n",
              "      <td>1</td>\n",
              "      <td>DoS_UDP</td>\n",
              "    </tr>\n",
              "    <tr>\n",
              "      <th>4</th>\n",
              "      <td>udp</td>\n",
              "      <td>192.168.100.147</td>\n",
              "      <td>22461</td>\n",
              "      <td>192.168.100.3</td>\n",
              "      <td>80</td>\n",
              "      <td>0.822418</td>\n",
              "      <td>100</td>\n",
              "      <td>2.979995</td>\n",
              "      <td>4</td>\n",
              "      <td>3.983222</td>\n",
              "      <td>100</td>\n",
              "      <td>0.000000</td>\n",
              "      <td>1.002999</td>\n",
              "      <td>4.994452</td>\n",
              "      <td>1</td>\n",
              "      <td>DDoS_UDP</td>\n",
              "    </tr>\n",
              "    <tr>\n",
              "      <th>...</th>\n",
              "      <td>...</td>\n",
              "      <td>...</td>\n",
              "      <td>...</td>\n",
              "      <td>...</td>\n",
              "      <td>...</td>\n",
              "      <td>...</td>\n",
              "      <td>...</td>\n",
              "      <td>...</td>\n",
              "      <td>...</td>\n",
              "      <td>...</td>\n",
              "      <td>...</td>\n",
              "      <td>...</td>\n",
              "      <td>...</td>\n",
              "      <td>...</td>\n",
              "      <td>...</td>\n",
              "      <td>...</td>\n",
              "    </tr>\n",
              "    <tr>\n",
              "      <th>2934812</th>\n",
              "      <td>udp</td>\n",
              "      <td>192.168.100.149</td>\n",
              "      <td>56044</td>\n",
              "      <td>192.168.100.5</td>\n",
              "      <td>80</td>\n",
              "      <td>0.016992</td>\n",
              "      <td>100</td>\n",
              "      <td>4.082509</td>\n",
              "      <td>4</td>\n",
              "      <td>4.102515</td>\n",
              "      <td>100</td>\n",
              "      <td>0.000000</td>\n",
              "      <td>0.243473</td>\n",
              "      <td>4.124047</td>\n",
              "      <td>1</td>\n",
              "      <td>DoS_UDP</td>\n",
              "    </tr>\n",
              "    <tr>\n",
              "      <th>2934813</th>\n",
              "      <td>udp</td>\n",
              "      <td>192.168.100.150</td>\n",
              "      <td>21546</td>\n",
              "      <td>192.168.100.3</td>\n",
              "      <td>80</td>\n",
              "      <td>1.922317</td>\n",
              "      <td>100</td>\n",
              "      <td>0.000000</td>\n",
              "      <td>4</td>\n",
              "      <td>2.718527</td>\n",
              "      <td>100</td>\n",
              "      <td>0.000000</td>\n",
              "      <td>0.490800</td>\n",
              "      <td>4.090534</td>\n",
              "      <td>1</td>\n",
              "      <td>DDoS_UDP</td>\n",
              "    </tr>\n",
              "    <tr>\n",
              "      <th>2934814</th>\n",
              "      <td>udp</td>\n",
              "      <td>192.168.100.149</td>\n",
              "      <td>30897</td>\n",
              "      <td>192.168.100.5</td>\n",
              "      <td>80</td>\n",
              "      <td>2.112228</td>\n",
              "      <td>100</td>\n",
              "      <td>0.000000</td>\n",
              "      <td>4</td>\n",
              "      <td>2.110766</td>\n",
              "      <td>100</td>\n",
              "      <td>0.000000</td>\n",
              "      <td>0.207444</td>\n",
              "      <td>4.332615</td>\n",
              "      <td>1</td>\n",
              "      <td>DoS_UDP</td>\n",
              "    </tr>\n",
              "    <tr>\n",
              "      <th>2934815</th>\n",
              "      <td>tcp</td>\n",
              "      <td>192.168.100.147</td>\n",
              "      <td>36904</td>\n",
              "      <td>192.168.100.7</td>\n",
              "      <td>80</td>\n",
              "      <td>0.000000</td>\n",
              "      <td>100</td>\n",
              "      <td>0.000000</td>\n",
              "      <td>3</td>\n",
              "      <td>0.000000</td>\n",
              "      <td>100</td>\n",
              "      <td>0.000000</td>\n",
              "      <td>0.162130</td>\n",
              "      <td>0.000000</td>\n",
              "      <td>1</td>\n",
              "      <td>DoS_TCP</td>\n",
              "    </tr>\n",
              "    <tr>\n",
              "      <th>2934816</th>\n",
              "      <td>tcp</td>\n",
              "      <td>192.168.100.150</td>\n",
              "      <td>14302</td>\n",
              "      <td>192.168.100.3</td>\n",
              "      <td>80</td>\n",
              "      <td>0.053820</td>\n",
              "      <td>100</td>\n",
              "      <td>0.064767</td>\n",
              "      <td>1</td>\n",
              "      <td>0.118588</td>\n",
              "      <td>100</td>\n",
              "      <td>0.038796</td>\n",
              "      <td>0.116388</td>\n",
              "      <td>0.172408</td>\n",
              "      <td>1</td>\n",
              "      <td>DoS_TCP</td>\n",
              "    </tr>\n",
              "  </tbody>\n",
              "</table>\n",
              "<p>2934646 rows × 16 columns</p>\n",
              "</div>"
            ],
            "text/plain": [
              "        proto            saddr  sport  ...       max  attack    target\n",
              "0         udp  192.168.100.150   6551  ...  4.031619       1  DDoS_UDP\n",
              "1         tcp  192.168.100.150   5532  ...  4.012924       1  DDoS_TCP\n",
              "2         tcp  192.168.100.147  27165  ...  3.609205       1  DDoS_TCP\n",
              "3         udp  192.168.100.150  48719  ...  4.942302       1   DoS_UDP\n",
              "4         udp  192.168.100.147  22461  ...  4.994452       1  DDoS_UDP\n",
              "...       ...              ...    ...  ...       ...     ...       ...\n",
              "2934812   udp  192.168.100.149  56044  ...  4.124047       1   DoS_UDP\n",
              "2934813   udp  192.168.100.150  21546  ...  4.090534       1  DDoS_UDP\n",
              "2934814   udp  192.168.100.149  30897  ...  4.332615       1   DoS_UDP\n",
              "2934815   tcp  192.168.100.147  36904  ...  0.000000       1   DoS_TCP\n",
              "2934816   tcp  192.168.100.150  14302  ...  0.172408       1   DoS_TCP\n",
              "\n",
              "[2934646 rows x 16 columns]"
            ]
          },
          "metadata": {
            "tags": []
          },
          "execution_count": 17
        }
      ]
    },
    {
      "cell_type": "code",
      "metadata": {
        "colab": {
          "base_uri": "https://localhost:8080/"
        },
        "id": "ij_KTX3pS0vS",
        "outputId": "ae52c8b7-2117-4881-9402-b4760e9cc560"
      },
      "source": [
        "from sklearn.preprocessing import LabelEncoder\n",
        "le = LabelEncoder()\n",
        "df_train[\"saddr_enc\"]= le.fit_transform(df_train.saddr)\n",
        "df_train[\"daddr_enc\"]= le.fit_transform(df_train.daddr)\n",
        "df_train[\"proto_enc\"]= le.fit_transform(df_train.proto)\n",
        "df_train[\"target_enc\"]= le.fit_transform(df_train.target)\n",
        "df_train.drop(['saddr','daddr','proto','target'], axis=1, inplace=True)\n",
        "df_test[\"saddr_enc\"]= le.fit_transform(df_test.saddr)\n",
        "df_test[\"daddr_enc\"]= le.fit_transform(df_test.daddr)\n",
        "df_test[\"proto_enc\"]= le.fit_transform(df_test.proto)\n",
        "df_test[\"target_enc\"]= le.fit_transform(df_test.target)\n",
        "df_test.drop(['saddr','daddr','proto','target'], axis=1, inplace=True)\n",
        "df_train['target_enc'].value_counts()"
      ],
      "execution_count": 18,
      "outputs": [
        {
          "output_type": "execute_result",
          "data": {
            "text/plain": [
              "5    826331\n",
              "1    782213\n",
              "2    758291\n",
              "4    492598\n",
              "8     58592\n",
              "7     14267\n",
              "3      1179\n",
              "0       786\n",
              "6       332\n",
              "9        57\n",
              "Name: target_enc, dtype: int64"
            ]
          },
          "metadata": {
            "tags": []
          },
          "execution_count": 18
        }
      ]
    },
    {
      "cell_type": "markdown",
      "metadata": {
        "id": "kA82o17kTMUy"
      },
      "source": [
        "5 - DoS_UDP\n",
        "\n",
        "1 - DDoS_TCP\n",
        "\n",
        "2 - DDoS_UDP\n",
        "\n",
        "4 - DoS_TCP\n",
        "\n",
        "8 - Reconnaissance_Service_Scan\n",
        "\n",
        "7 - Reconnaissance_OS_Fingerprint\n",
        "\n",
        "3 - DoS_HTTP\n",
        "\n",
        "0 - DDoS_HTTP\n",
        "\n",
        "6 - Normal_Normal\n",
        "\n",
        "9 - Theft_Keylogging"
      ]
    },
    {
      "cell_type": "code",
      "metadata": {
        "id": "oxIt9NdFbm8j"
      },
      "source": [
        "y = df_train['target_enc']"
      ],
      "execution_count": 19,
      "outputs": []
    },
    {
      "cell_type": "code",
      "metadata": {
        "id": "fMf4vI1Lbq-_"
      },
      "source": [
        "from sklearn.preprocessing import StandardScaler\n",
        "scaler=StandardScaler()\n",
        "features = df_train.iloc[:,:-1]\n",
        "cols=features.columns\n",
        "scaled_features= scaler.fit_transform(features)\n",
        "df_train= pd.DataFrame(scaled_features,columns=cols)"
      ],
      "execution_count": 20,
      "outputs": []
    },
    {
      "cell_type": "code",
      "metadata": {
        "id": "KTzuoktrb6T-"
      },
      "source": [
        "ytest = df_test['target_enc']\n",
        "features = df_test.iloc[:,:-1]\n",
        "cols=features.columns\n",
        "scaled_features= scaler.fit_transform(features)\n",
        "df_test= pd.DataFrame(scaled_features,columns=cols)"
      ],
      "execution_count": 21,
      "outputs": []
    },
    {
      "cell_type": "code",
      "metadata": {
        "id": "kJylYLKCcjxn"
      },
      "source": [
        "x = df_train\n",
        "xtest = df_test"
      ],
      "execution_count": 22,
      "outputs": []
    },
    {
      "cell_type": "code",
      "metadata": {
        "colab": {
          "base_uri": "https://localhost:8080/"
        },
        "id": "yctnVOg5TX_p",
        "outputId": "09928b88-8e3c-426f-cee7-58826beab917"
      },
      "source": [
        "import imblearn\n",
        "from imblearn.under_sampling import RandomUnderSampler\n",
        "samp_strat= {5:60000, 1:60000, 2:60000, 4:55000, 8:50000, 7:14267, 3:1179, 0:786, 6:332, 9:57}\n",
        "random_under= RandomUnderSampler(sampling_strategy=samp_strat,random_state=1)\n",
        "X_rus,y_rus = random_under.fit_resample(x,y)"
      ],
      "execution_count": 23,
      "outputs": [
        {
          "output_type": "stream",
          "text": [
            "/usr/local/lib/python3.7/dist-packages/sklearn/externals/six.py:31: FutureWarning: The module is deprecated in version 0.21 and will be removed in version 0.23 since we've dropped support for Python 2.7. Please rely on the official version of six (https://pypi.org/project/six/).\n",
            "  \"(https://pypi.org/project/six/).\", FutureWarning)\n",
            "/usr/local/lib/python3.7/dist-packages/sklearn/utils/deprecation.py:144: FutureWarning: The sklearn.neighbors.base module is  deprecated in version 0.22 and will be removed in version 0.24. The corresponding classes / functions should instead be imported from sklearn.neighbors. Anything that cannot be imported from sklearn.neighbors is now part of the private API.\n",
            "  warnings.warn(message, FutureWarning)\n",
            "/usr/local/lib/python3.7/dist-packages/sklearn/utils/deprecation.py:87: FutureWarning: Function safe_indexing is deprecated; safe_indexing is deprecated in version 0.22 and will be removed in version 0.24.\n",
            "  warnings.warn(msg, category=FutureWarning)\n"
          ],
          "name": "stderr"
        }
      ]
    },
    {
      "cell_type": "code",
      "metadata": {
        "colab": {
          "base_uri": "https://localhost:8080/"
        },
        "id": "i99r-Ka1c8du",
        "outputId": "de0a69e2-0afb-41a4-e8f0-09081a44909f"
      },
      "source": [
        "from imblearn.over_sampling import RandomOverSampler\n",
        "samp_strat= {5:60000, 1:60000, 2:60000, 4:55000, 8:50000, 7:30000, 3:20000, 0:15000, 6:8000, 9:2000}\n",
        "random_under= RandomOverSampler(sampling_strategy=samp_strat,random_state=1)\n",
        "Xres,yres = random_under.fit_resample(X_rus,y_rus)"
      ],
      "execution_count": 24,
      "outputs": [
        {
          "output_type": "stream",
          "text": [
            "/usr/local/lib/python3.7/dist-packages/sklearn/utils/deprecation.py:87: FutureWarning: Function safe_indexing is deprecated; safe_indexing is deprecated in version 0.22 and will be removed in version 0.24.\n",
            "  warnings.warn(msg, category=FutureWarning)\n"
          ],
          "name": "stderr"
        }
      ]
    },
    {
      "cell_type": "code",
      "metadata": {
        "colab": {
          "base_uri": "https://localhost:8080/",
          "height": 393
        },
        "id": "xL3uU70YfC2X",
        "outputId": "ecd0192f-c055-4315-fc00-11ed95fc8b2c"
      },
      "source": [
        "plt.figure(figsize=(10,5))\n",
        "sns.countplot(yres,palette='viridis')"
      ],
      "execution_count": 25,
      "outputs": [
        {
          "output_type": "stream",
          "text": [
            "/usr/local/lib/python3.7/dist-packages/seaborn/_decorators.py:43: FutureWarning: Pass the following variable as a keyword arg: x. From version 0.12, the only valid positional argument will be `data`, and passing other arguments without an explicit keyword will result in an error or misinterpretation.\n",
            "  FutureWarning\n"
          ],
          "name": "stderr"
        },
        {
          "output_type": "execute_result",
          "data": {
            "text/plain": [
              "<matplotlib.axes._subplots.AxesSubplot at 0x7f70ff65ff10>"
            ]
          },
          "metadata": {
            "tags": []
          },
          "execution_count": 25
        },
        {
          "output_type": "display_data",
          "data": {
            "image/png": "[encoded data removed]",
            "text/plain": [
              "<Figure size 720x360 with 1 Axes>"
            ]
          },
          "metadata": {
            "tags": [],
            "needs_background": "light"
          }
        }
      ]
    },
    {
      "cell_type": "code",
      "metadata": {
        "colab": {
          "base_uri": "https://localhost:8080/"
        },
        "id": "H1_beysqglHD",
        "outputId": "ad347934-af2b-4670-f870-d95183d4b87e"
      },
      "source": [
        "from sklearn import model_selection\n",
        "import time\n",
        "from sklearn.linear_model import LogisticRegression\n",
        "from sklearn.linear_model import LogisticRegression\n",
        "\n",
        "X_train, X_test, y_train, y_test = model_selection.train_test_split(Xres,yres, test_size=0.20, random_state=42, stratify=yres)\n",
        "start = time.time()\n",
        "model_1 = LogisticRegression(solver='liblinear')\n",
        "model_1.fit(X_train, y_train)\n",
        "pred_1= model_1.predict(X_test)\n",
        "score1 = model_1.score(X_test, y_test)\n",
        "end = time.time()\n",
        "print(end - start, \"saniye\\n\")\n",
        "print(\"Sampling Yapılmış Verinin Doğruluk Ortalaması: \",score1)\n",
        "pred_2 = model_1.predict(xtest)\n",
        "score2 = model_1.score(xtest,ytest)\n",
        "print(\"Sampling Yapılmamış Verinin Doğruluk Ortalaması: \",score2)"
      ],
      "execution_count": 26,
      "outputs": [
        {
          "output_type": "stream",
          "text": [
            "136.5062985420227 saniye\n",
            "\n",
            "Sampling Yapılmış Verinin Doğruluk Ortalaması:  0.8771111111111111\n",
            "Sampling Yapılmamış Verinin Doğruluk Ortalaması:  0.9637855785665801\n"
          ],
          "name": "stdout"
        }
      ]
    },
    {
      "cell_type": "code",
      "metadata": {
        "colab": {
          "base_uri": "https://localhost:8080/"
        },
        "id": "fVw5q5VUqG5U",
        "outputId": "c9187c11-c920-4367-fd2e-9e10d8bb81be"
      },
      "source": [
        "from sklearn.model_selection import KFold,StratifiedKFold,cross_val_score\n",
        "model_1 = LogisticRegression(solver='liblinear')\n",
        "model_1.fit(X_train,y_train)\n",
        "score3 = cross_val_score(model_1, X_train, y_train)\n",
        "print(\"Sampling Yapılmış Veride Cross Validation Doğruluk Ortalaması: \",score3.mean())"
      ],
      "execution_count": 27,
      "outputs": [
        {
          "output_type": "stream",
          "text": [
            "Sampling Yapılmış Veride Cross Validation Doğruluk Ortalaması:  0.8762777777777778\n"
          ],
          "name": "stdout"
        }
      ]
    },
    {
      "cell_type": "code",
      "metadata": {
        "id": "M5rfPKSFqVuh"
      },
      "source": [
        "from sklearn.linear_model import LogisticRegression\n",
        "logModel=LogisticRegression()\n",
        "param_grid= [\n",
        "             {'solver' : ['lbfgs'],'penalty' : ['l2'],'C':[1,5,25], 'max_iter' : [1000], 'n_jobs' : [100] }  ]"
      ],
      "execution_count": 28,
      "outputs": []
    },
    {
      "cell_type": "code",
      "metadata": {
        "id": "6OAdqyhYtE7s"
      },
      "source": [
        "param_grid= [\n",
        "             {'solver' : ['lbfgs'],'penalty' : ['l2'],'C':[1,5,25], 'max_iter' : [1000], 'n_jobs' : [100] }  ]"
      ],
      "execution_count": 29,
      "outputs": []
    },
    {
      "cell_type": "code",
      "metadata": {
        "colab": {
          "base_uri": "https://localhost:8080/"
        },
        "id": "3JuDoGCPqcFv",
        "outputId": "5d8a0e45-38fb-4da6-e4b9-af1b4d9f95d4"
      },
      "source": [
        "from sklearn.model_selection import GridSearchCV\n",
        "clf = GridSearchCV(logModel, param_grid = param_grid, cv=3, verbose=3)\n",
        "best_clf = clf.fit(X_train,y_train)"
      ],
      "execution_count": 30,
      "outputs": [
        {
          "output_type": "stream",
          "text": [
            "Fitting 3 folds for each of 3 candidates, totalling 9 fits\n",
            "[CV] C=1, max_iter=1000, n_jobs=100, penalty=l2, solver=lbfgs ........\n"
          ],
          "name": "stdout"
        },
        {
          "output_type": "stream",
          "text": [
            "[Parallel(n_jobs=1)]: Using backend SequentialBackend with 1 concurrent workers.\n"
          ],
          "name": "stderr"
        },
        {
          "output_type": "stream",
          "text": [
            "[CV]  C=1, max_iter=1000, n_jobs=100, penalty=l2, solver=lbfgs, score=0.880, total= 3.2min\n",
            "[CV] C=1, max_iter=1000, n_jobs=100, penalty=l2, solver=lbfgs ........\n"
          ],
          "name": "stdout"
        },
        {
          "output_type": "stream",
          "text": [
            "[Parallel(n_jobs=1)]: Done   1 out of   1 | elapsed:  3.2min remaining:    0.0s\n"
          ],
          "name": "stderr"
        },
        {
          "output_type": "stream",
          "text": [
            "[CV]  C=1, max_iter=1000, n_jobs=100, penalty=l2, solver=lbfgs, score=0.881, total= 2.9min\n",
            "[CV] C=1, max_iter=1000, n_jobs=100, penalty=l2, solver=lbfgs ........\n"
          ],
          "name": "stdout"
        },
        {
          "output_type": "stream",
          "text": [
            "[Parallel(n_jobs=1)]: Done   2 out of   2 | elapsed:  6.2min remaining:    0.0s\n"
          ],
          "name": "stderr"
        },
        {
          "output_type": "stream",
          "text": [
            "[CV]  C=1, max_iter=1000, n_jobs=100, penalty=l2, solver=lbfgs, score=0.880, total= 3.3min\n",
            "[CV] C=5, max_iter=1000, n_jobs=100, penalty=l2, solver=lbfgs ........\n",
            "[CV]  C=5, max_iter=1000, n_jobs=100, penalty=l2, solver=lbfgs, score=0.890, total= 2.9min\n",
            "[CV] C=5, max_iter=1000, n_jobs=100, penalty=l2, solver=lbfgs ........\n",
            "[CV]  C=5, max_iter=1000, n_jobs=100, penalty=l2, solver=lbfgs, score=0.889, total= 3.2min\n",
            "[CV] C=5, max_iter=1000, n_jobs=100, penalty=l2, solver=lbfgs ........\n",
            "[CV]  C=5, max_iter=1000, n_jobs=100, penalty=l2, solver=lbfgs, score=0.888, total= 2.9min\n",
            "[CV] C=25, max_iter=1000, n_jobs=100, penalty=l2, solver=lbfgs .......\n",
            "[CV]  C=25, max_iter=1000, n_jobs=100, penalty=l2, solver=lbfgs, score=0.894, total= 3.4min\n",
            "[CV] C=25, max_iter=1000, n_jobs=100, penalty=l2, solver=lbfgs .......\n",
            "[CV]  C=25, max_iter=1000, n_jobs=100, penalty=l2, solver=lbfgs, score=0.895, total= 2.9min\n",
            "[CV] C=25, max_iter=1000, n_jobs=100, penalty=l2, solver=lbfgs .......\n",
            "[CV]  C=25, max_iter=1000, n_jobs=100, penalty=l2, solver=lbfgs, score=0.889, total= 3.3min\n"
          ],
          "name": "stdout"
        },
        {
          "output_type": "stream",
          "text": [
            "[Parallel(n_jobs=1)]: Done   9 out of   9 | elapsed: 28.0min finished\n"
          ],
          "name": "stderr"
        }
      ]
    },
    {
      "cell_type": "code",
      "metadata": {
        "colab": {
          "base_uri": "https://localhost:8080/"
        },
        "id": "GPaiBTXv0plL",
        "outputId": "b5aa8299-d25f-485c-eac1-b45d042617fd"
      },
      "source": [
        "best_clf.best_score_"
      ],
      "execution_count": 31,
      "outputs": [
        {
          "output_type": "execute_result",
          "data": {
            "text/plain": [
              "0.8926319444444445"
            ]
          },
          "metadata": {
            "tags": []
          },
          "execution_count": 31
        }
      ]
    },
    {
      "cell_type": "code",
      "metadata": {
        "colab": {
          "base_uri": "https://localhost:8080/"
        },
        "id": "FLwGHuZp0tkq",
        "outputId": "ef37f0b8-995e-43dd-9996-7b45071f1029"
      },
      "source": [
        "best_clf.best_params_"
      ],
      "execution_count": 32,
      "outputs": [
        {
          "output_type": "execute_result",
          "data": {
            "text/plain": [
              "{'C': 25, 'max_iter': 1000, 'n_jobs': 100, 'penalty': 'l2', 'solver': 'lbfgs'}"
            ]
          },
          "metadata": {
            "tags": []
          },
          "execution_count": 32
        }
      ]
    },
    {
      "cell_type": "code",
      "metadata": {
        "colab": {
          "base_uri": "https://localhost:8080/"
        },
        "id": "VBC476OU0yA2",
        "outputId": "95050c6c-1a7a-4724-938b-9135fab3abeb"
      },
      "source": [
        "start = time.time()\n",
        "model_2 = LogisticRegression(C= 25, max_iter= 1000, n_jobs= 100, penalty='l2', solver= 'lbfgs')\n",
        "model_2.fit(X_train, y_train)\n",
        "pred_3= model_2.predict(X_test)\n",
        "score5 = model_2.score(X_test, y_test)\n",
        "end = time.time()\n",
        "print(end - start, \"seconds\\n\")\n",
        "print(\"Sampling Yapılmış Verinin En İyi Parametrelerle Doğruluk Oranı: \",score5)"
      ],
      "execution_count": 33,
      "outputs": [
        {
          "output_type": "stream",
          "text": [
            "283.24129009246826 seconds\n",
            "\n",
            "Sampling Yapılmış Verinin En İyi Parametrelerle Doğruluk Oranı:  0.8937916666666667\n"
          ],
          "name": "stdout"
        }
      ]
    },
    {
      "cell_type": "code",
      "metadata": {
        "colab": {
          "base_uri": "https://localhost:8080/"
        },
        "id": "gTRiDRyx09BT",
        "outputId": "0def73b6-fcdd-4988-a01e-eebfd4e03794"
      },
      "source": [
        "pred_5 = model_2.predict(xtest)\n",
        "score7 = model_2.score(xtest,ytest)\n",
        "print(\"Sampling Yapılmamış Verinin En İyi Parametrelerle Doğruluk Oranı: \",score7)"
      ],
      "execution_count": 34,
      "outputs": [
        {
          "output_type": "stream",
          "text": [
            "Sampling Yapılmamış Verinin En İyi Parametrelerle Doğruluk Oranı:  0.9684934942439121\n"
          ],
          "name": "stdout"
        }
      ]
    },
    {
      "cell_type": "code",
      "metadata": {
        "colab": {
          "base_uri": "https://localhost:8080/"
        },
        "id": "OPjhRW1F4lBP",
        "outputId": "43d15474-9ea5-421a-ee60-827e74650b30"
      },
      "source": [
        "from sklearn.metrics import classification_report,confusion_matrix\n",
        "print(classification_report(ytest,pred_5))"
      ],
      "execution_count": 35,
      "outputs": [
        {
          "output_type": "stream",
          "text": [
            "              precision    recall  f1-score   support\n",
            "\n",
            "           0       0.02      0.70      0.05       202\n",
            "           1       1.00      0.94      0.97    195149\n",
            "           2       1.00      1.00      1.00    189948\n",
            "           3       0.03      0.74      0.06       300\n",
            "           4       0.96      0.95      0.96    123183\n",
            "           5       1.00      1.00      1.00    206620\n",
            "           6       1.00      1.00      1.00        98\n",
            "           7       0.46      0.69      0.55      3615\n",
            "           8       0.82      0.74      0.78     14530\n",
            "           9       0.28      1.00      0.44        13\n",
            "\n",
            "    accuracy                           0.97    733658\n",
            "   macro avg       0.66      0.88      0.68    733658\n",
            "weighted avg       0.99      0.97      0.98    733658\n",
            "\n"
          ],
          "name": "stdout"
        }
      ]
    },
    {
      "cell_type": "code",
      "metadata": {
        "colab": {
          "base_uri": "https://localhost:8080/"
        },
        "id": "FhsKZane5LpB",
        "outputId": "bd1af5ec-15ff-4499-a59e-9ce9ca73147a"
      },
      "source": [
        "print(confusion_matrix(ytest,pred_5))"
      ],
      "execution_count": 36,
      "outputs": [
        {
          "output_type": "stream",
          "text": [
            "[[   142     30      0     18      0      0      0      0     12      0]\n",
            " [  5816 183245     17    926   3744      0      0      2   1373     26]\n",
            " [     0      3 189944      0      0      0      0      1      0      0]\n",
            " [    53      3      0    223     20      0      0      1      0      0]\n",
            " [     5     32      0   5982 117100      0      0      3     61      0]\n",
            " [     0      3     45      0      5 206566      0      1      0      0]\n",
            " [     0      0      0      0      0      0     98      0      0      0]\n",
            " [     4     53      0     57    165      1      0   2499    836      0]\n",
            " [    32    397      2     61    367      0      0   2951  10713      7]\n",
            " [     0      0      0      0      0      0      0      0      0     13]]\n"
          ],
          "name": "stdout"
        }
      ]
    },
    {
      "cell_type": "code",
      "metadata": {
        "colab": {
          "base_uri": "https://localhost:8080/"
        },
        "id": "CJubKZfdDWs8",
        "outputId": "d32299c0-91ba-4a8f-aab0-124f99d177c1"
      },
      "source": [
        "from sklearn.tree import DecisionTreeClassifier\n",
        "\n",
        "X_train, X_test, y_train, y_test = model_selection.train_test_split(Xres,yres, test_size=0.20, random_state=42, stratify=yres)\n",
        "start = time.time()\n",
        "model_3 = DecisionTreeClassifier(criterion=\"entropy\", splitter=\"best\", max_depth=5)\n",
        "model_3.fit(X_train, y_train)\n",
        "pred_10= model_3.predict(X_test)\n",
        "score10 = model_3.score(X_test, y_test)\n",
        "end = time.time()\n",
        "print(end - start, \"saniye\\n\")\n",
        "print(\"Sampling Yapılmış Veride Doğruluk Oranı: \",score10)\n",
        "pred_11 = model_3.predict(xtest)\n",
        "score11 = model_3.score(xtest,ytest)\n",
        "print(\"Sampling Yapılmamış Veride Doğruluk Oranı: \",score11)\n",
        "score12 = cross_val_score(model_3, X_train, y_train)\n",
        "print(\"Sampling Yapılmış Veride Cross Validation Doğruluk Ortalaması: \",score12.mean())"
      ],
      "execution_count": 38,
      "outputs": [
        {
          "output_type": "stream",
          "text": [
            "2.281830072402954 saniye\n",
            "\n",
            "Sampling Yapılmış Veride Doğruluk Oranı:  0.8936666666666667\n",
            "Sampling Yapılmamış Veride Doğruluk Oranı:  0.6853942845303943\n",
            "Sampling Yapılmış Veride Cross Validation Doğruluk Ortalaması:  0.8920520833333333\n"
          ],
          "name": "stdout"
        }
      ]
    },
    {
      "cell_type": "code",
      "metadata": {
        "colab": {
          "base_uri": "https://localhost:8080/"
        },
        "id": "hNtZxIVoESqR",
        "outputId": "2376a2ef-aac5-4b0d-f766-2b26b334e6ce"
      },
      "source": [
        "param_grid= [{'criterion' : ['entropy','gini'],'splitter' : ['best','random'],'max_depth':[9,13,25]} ]\n",
        "clf = GridSearchCV(DecisionTreeClassifier(), param_grid = param_grid, cv=3, verbose=3)\n",
        "best_clf = clf.fit(X_train,y_train)"
      ],
      "execution_count": 39,
      "outputs": [
        {
          "output_type": "stream",
          "text": [
            "Fitting 3 folds for each of 12 candidates, totalling 36 fits\n",
            "[CV] criterion=entropy, max_depth=9, splitter=best ...................\n"
          ],
          "name": "stdout"
        },
        {
          "output_type": "stream",
          "text": [
            "[Parallel(n_jobs=1)]: Using backend SequentialBackend with 1 concurrent workers.\n"
          ],
          "name": "stderr"
        },
        {
          "output_type": "stream",
          "text": [
            "[CV]  criterion=entropy, max_depth=9, splitter=best, score=0.972, total=   2.0s\n",
            "[CV] criterion=entropy, max_depth=9, splitter=best ...................\n"
          ],
          "name": "stdout"
        },
        {
          "output_type": "stream",
          "text": [
            "[Parallel(n_jobs=1)]: Done   1 out of   1 | elapsed:    2.0s remaining:    0.0s\n"
          ],
          "name": "stderr"
        },
        {
          "output_type": "stream",
          "text": [
            "[CV]  criterion=entropy, max_depth=9, splitter=best, score=0.972, total=   2.0s\n",
            "[CV] criterion=entropy, max_depth=9, splitter=best ...................\n"
          ],
          "name": "stdout"
        },
        {
          "output_type": "stream",
          "text": [
            "[Parallel(n_jobs=1)]: Done   2 out of   2 | elapsed:    4.1s remaining:    0.0s\n"
          ],
          "name": "stderr"
        },
        {
          "output_type": "stream",
          "text": [
            "[CV]  criterion=entropy, max_depth=9, splitter=best, score=0.972, total=   2.0s\n",
            "[CV] criterion=entropy, max_depth=9, splitter=random .................\n",
            "[CV]  criterion=entropy, max_depth=9, splitter=random, score=0.927, total=   0.3s\n",
            "[CV] criterion=entropy, max_depth=9, splitter=random .................\n",
            "[CV]  criterion=entropy, max_depth=9, splitter=random, score=0.897, total=   0.3s\n",
            "[CV] criterion=entropy, max_depth=9, splitter=random .................\n",
            "[CV]  criterion=entropy, max_depth=9, splitter=random, score=0.917, total=   0.8s\n",
            "[CV] criterion=entropy, max_depth=13, splitter=best ..................\n",
            "[CV]  criterion=entropy, max_depth=13, splitter=best, score=0.998, total=   5.4s\n",
            "[CV] criterion=entropy, max_depth=13, splitter=best ..................\n",
            "[CV]  criterion=entropy, max_depth=13, splitter=best, score=0.998, total=   2.9s\n",
            "[CV] criterion=entropy, max_depth=13, splitter=best ..................\n",
            "[CV]  criterion=entropy, max_depth=13, splitter=best, score=0.998, total=   2.5s\n",
            "[CV] criterion=entropy, max_depth=13, splitter=random ................\n",
            "[CV]  criterion=entropy, max_depth=13, splitter=random, score=0.962, total=   0.5s\n",
            "[CV] criterion=entropy, max_depth=13, splitter=random ................\n",
            "[CV]  criterion=entropy, max_depth=13, splitter=random, score=0.980, total=   0.5s\n",
            "[CV] criterion=entropy, max_depth=13, splitter=random ................\n",
            "[CV]  criterion=entropy, max_depth=13, splitter=random, score=0.938, total=   0.4s\n",
            "[CV] criterion=entropy, max_depth=25, splitter=best ..................\n",
            "[CV]  criterion=entropy, max_depth=25, splitter=best, score=0.999, total=   2.1s\n",
            "[CV] criterion=entropy, max_depth=25, splitter=best ..................\n",
            "[CV]  criterion=entropy, max_depth=25, splitter=best, score=0.999, total=   2.1s\n",
            "[CV] criterion=entropy, max_depth=25, splitter=best ..................\n",
            "[CV]  criterion=entropy, max_depth=25, splitter=best, score=0.999, total=   2.1s\n",
            "[CV] criterion=entropy, max_depth=25, splitter=random ................\n",
            "[CV]  criterion=entropy, max_depth=25, splitter=random, score=0.998, total=   0.4s\n",
            "[CV] criterion=entropy, max_depth=25, splitter=random ................\n",
            "[CV]  criterion=entropy, max_depth=25, splitter=random, score=0.999, total=   0.4s\n",
            "[CV] criterion=entropy, max_depth=25, splitter=random ................\n",
            "[CV]  criterion=entropy, max_depth=25, splitter=random, score=0.999, total=   0.3s\n",
            "[CV] criterion=gini, max_depth=9, splitter=best ......................\n",
            "[CV]  criterion=gini, max_depth=9, splitter=best, score=0.966, total=   1.3s\n",
            "[CV] criterion=gini, max_depth=9, splitter=best ......................\n",
            "[CV]  criterion=gini, max_depth=9, splitter=best, score=0.966, total=   1.3s\n",
            "[CV] criterion=gini, max_depth=9, splitter=best ......................\n",
            "[CV]  criterion=gini, max_depth=9, splitter=best, score=0.965, total=   1.3s\n",
            "[CV] criterion=gini, max_depth=9, splitter=random ....................\n",
            "[CV]  criterion=gini, max_depth=9, splitter=random, score=0.835, total=   0.4s\n",
            "[CV] criterion=gini, max_depth=9, splitter=random ....................\n",
            "[CV]  criterion=gini, max_depth=9, splitter=random, score=0.866, total=   0.3s\n",
            "[CV] criterion=gini, max_depth=9, splitter=random ....................\n",
            "[CV]  criterion=gini, max_depth=9, splitter=random, score=0.888, total=   0.3s\n",
            "[CV] criterion=gini, max_depth=13, splitter=best .....................\n",
            "[CV]  criterion=gini, max_depth=13, splitter=best, score=0.991, total=   1.4s\n",
            "[CV] criterion=gini, max_depth=13, splitter=best .....................\n",
            "[CV]  criterion=gini, max_depth=13, splitter=best, score=0.992, total=   1.5s\n",
            "[CV] criterion=gini, max_depth=13, splitter=best .....................\n",
            "[CV]  criterion=gini, max_depth=13, splitter=best, score=0.985, total=   1.4s\n",
            "[CV] criterion=gini, max_depth=13, splitter=random ...................\n",
            "[CV]  criterion=gini, max_depth=13, splitter=random, score=0.953, total=   0.3s\n",
            "[CV] criterion=gini, max_depth=13, splitter=random ...................\n",
            "[CV]  criterion=gini, max_depth=13, splitter=random, score=0.959, total=   0.4s\n",
            "[CV] criterion=gini, max_depth=13, splitter=random ...................\n",
            "[CV]  criterion=gini, max_depth=13, splitter=random, score=0.967, total=   0.4s\n",
            "[CV] criterion=gini, max_depth=25, splitter=best .....................\n",
            "[CV]  criterion=gini, max_depth=25, splitter=best, score=0.999, total=   1.5s\n",
            "[CV] criterion=gini, max_depth=25, splitter=best .....................\n",
            "[CV]  criterion=gini, max_depth=25, splitter=best, score=0.999, total=   1.5s\n",
            "[CV] criterion=gini, max_depth=25, splitter=best .....................\n",
            "[CV]  criterion=gini, max_depth=25, splitter=best, score=0.999, total=   1.5s\n",
            "[CV] criterion=gini, max_depth=25, splitter=random ...................\n",
            "[CV]  criterion=gini, max_depth=25, splitter=random, score=0.999, total=   0.4s\n",
            "[CV] criterion=gini, max_depth=25, splitter=random ...................\n",
            "[CV]  criterion=gini, max_depth=25, splitter=random, score=0.999, total=   0.4s\n",
            "[CV] criterion=gini, max_depth=25, splitter=random ...................\n",
            "[CV]  criterion=gini, max_depth=25, splitter=random, score=0.997, total=   0.4s\n"
          ],
          "name": "stdout"
        },
        {
          "output_type": "stream",
          "text": [
            "[Parallel(n_jobs=1)]: Done  36 out of  36 | elapsed:   42.8s finished\n"
          ],
          "name": "stderr"
        }
      ]
    },
    {
      "cell_type": "code",
      "metadata": {
        "colab": {
          "base_uri": "https://localhost:8080/"
        },
        "id": "92uClhVHFx0e",
        "outputId": "482b068e-88ca-4441-ce8b-98a34bcc31ae"
      },
      "source": [
        "best_clf.best_score_"
      ],
      "execution_count": 40,
      "outputs": [
        {
          "output_type": "execute_result",
          "data": {
            "text/plain": [
              "0.9993784722222222"
            ]
          },
          "metadata": {
            "tags": []
          },
          "execution_count": 40
        }
      ]
    },
    {
      "cell_type": "code",
      "metadata": {
        "colab": {
          "base_uri": "https://localhost:8080/"
        },
        "id": "wFNGksPpF6Ci",
        "outputId": "e4c403c2-4f98-477b-f026-4ee0d3e1da80"
      },
      "source": [
        "best_clf.best_params_"
      ],
      "execution_count": 41,
      "outputs": [
        {
          "output_type": "execute_result",
          "data": {
            "text/plain": [
              "{'criterion': 'entropy', 'max_depth': 25, 'splitter': 'best'}"
            ]
          },
          "metadata": {
            "tags": []
          },
          "execution_count": 41
        }
      ]
    },
    {
      "cell_type": "code",
      "metadata": {
        "colab": {
          "base_uri": "https://localhost:8080/"
        },
        "id": "W4mFUTLcGFGk",
        "outputId": "d5f35358-2de8-42bd-fb15-12d1fa1d102d"
      },
      "source": [
        "start = time.time()\n",
        "model_4 = DecisionTreeClassifier(criterion=\"entropy\", splitter=\"best\", max_depth=25)\n",
        "model_4.fit(X_train, y_train)\n",
        "pred_12= model_4.predict(X_test)\n",
        "score14 = model_4.score(X_test, y_test)\n",
        "end = time.time()\n",
        "print(end - start, \"saniye\\n\")\n",
        "print(\"En İyi Parametrelerle Sampling Yapılmış Veride Doğruluk Oranı: \",score14)\n",
        "pred_14 = model_4.predict(xtest)\n",
        "score15 = model_4.score(xtest,ytest)\n",
        "print(\"En İyi Parametrelerle Sampling Yapılmamış Veride Doğruluk Oranı:\", score15) "
      ],
      "execution_count": 48,
      "outputs": [
        {
          "output_type": "stream",
          "text": [
            "3.1295816898345947 saniye\n",
            "\n",
            "En İyi Parametrelerle Sampling Yapılmış Veride Doğruluk Oranı:  0.9996111111111111\n",
            "En İyi Parametrelerle Sampling Yapılmamış Veride Doğruluk Oranı: 0.7806593808014088\n"
          ],
          "name": "stdout"
        }
      ]
    },
    {
      "cell_type": "code",
      "metadata": {
        "colab": {
          "base_uri": "https://localhost:8080/"
        },
        "id": "aclL_qgQG0M3",
        "outputId": "4badfd07-91ed-4c9c-fb9e-a6a7f1b1ba52"
      },
      "source": [
        "print(classification_report(y_test,pred_12))"
      ],
      "execution_count": 44,
      "outputs": [
        {
          "output_type": "stream",
          "text": [
            "              precision    recall  f1-score   support\n",
            "\n",
            "           0       1.00      1.00      1.00      3000\n",
            "           1       1.00      1.00      1.00     12000\n",
            "           2       1.00      1.00      1.00     12000\n",
            "           3       1.00      1.00      1.00      4000\n",
            "           4       1.00      1.00      1.00     11000\n",
            "           5       1.00      1.00      1.00     12000\n",
            "           6       1.00      1.00      1.00      1600\n",
            "           7       1.00      1.00      1.00      6000\n",
            "           8       1.00      1.00      1.00     10000\n",
            "           9       1.00      1.00      1.00       400\n",
            "\n",
            "    accuracy                           1.00     72000\n",
            "   macro avg       1.00      1.00      1.00     72000\n",
            "weighted avg       1.00      1.00      1.00     72000\n",
            "\n"
          ],
          "name": "stdout"
        }
      ]
    },
    {
      "cell_type": "code",
      "metadata": {
        "colab": {
          "base_uri": "https://localhost:8080/"
        },
        "id": "fi2bvuewHNAB",
        "outputId": "7a78db86-3067-43ad-c025-8bf28e4d6382"
      },
      "source": [
        "print(confusion_matrix(y_test,pred_12))"
      ],
      "execution_count": 45,
      "outputs": [
        {
          "output_type": "stream",
          "text": [
            "[[ 3000     0     0     0     0     0     0     0     0     0]\n",
            " [    0 11994     0     0     5     0     0     1     0     0]\n",
            " [    0     0 12000     0     0     0     0     0     0     0]\n",
            " [    0     0     0  4000     0     0     0     0     0     0]\n",
            " [    0     2     0     0 10998     0     0     0     0     0]\n",
            " [    0     0     0     0     0 12000     0     0     0     0]\n",
            " [    0     0     0     0     0     0  1600     0     0     0]\n",
            " [    0     0     0     0     0     0     0  5994     6     0]\n",
            " [    0     2     0     0     0     0     0    17  9981     0]\n",
            " [    0     0     0     0     0     0     0     0     0   400]]\n"
          ],
          "name": "stdout"
        }
      ]
    }
  ]
}